{
 "cells": [
  {
   "cell_type": "markdown",
   "metadata": {},
   "source": [
    "# Bases de datos\n",
    "\n",
    "La base de datos [ENA](https://www.ebi.ac.uk/ena/browser/home) ofrece la posibilidad de realizar las consultas de forma *programática*: desde un *script* o desde la línea de comandos de un terminal tipo *BASH*. En un terminal, los programas `curl` y `wget` permiten descargar contenidos de la red. En el entorno de R también disponemos de un paquete llamado `curl` que nos permite descargar información de internet.\n",
    "\n",
    "El objetivo de esta práctica es componer un *script* de R que represente gráficamente la evolución de la cantidad de datos de secuencias cortas en ENA en los últimos años. Es decir, pretendemos reproducir y actualizar el gráfico **Reads growth** mostrado en las [estadísticas de ENA](https://www.ebi.ac.uk/ena/browser/about/statistics).\n",
    "\n",
    "Este documento te ofrece un ejemplo de los pasos a seguir, que tendrás que editar para que el script cumpla la función deseada. Es decir, utiliza los bloques de código de este documento como plantilla para confeccionar tu propio script. Puedes abrir un nuevo cuaderno jupyter (`File` $\\rightarrow$ `New Notebook` $\\rightarrow$ `R`). Si conoces RStudio y prefieres hacerlo allí, también puedes abrir una sesión de RStudio desde esta sesión en mybinder.org.\n",
    "\n",
    "## Libreria *curl*\n",
    "\n",
    "Primero cargamos el paquete *curl* y lo usamos para descargar la documentación más reciente sobre la manera de consultar ENA mediante línea de comandos."
   ]
  },
  {
   "cell_type": "code",
   "execution_count": 1,
   "metadata": {},
   "outputs": [
    {
     "name": "stderr",
     "output_type": "stream",
     "text": [
      "Using libcurl 7.68.0 with GnuTLS/3.6.13\n",
      "\n"
     ]
    }
   ],
   "source": [
    "library('curl')\n",
    "curl_download(url = 'https://www.ebi.ac.uk/ena/portal/api/doc?format=pdf',\n",
    "              destfile = 'apiEna.pdf')"
   ]
  },
  {
   "cell_type": "markdown",
   "metadata": {},
   "source": [
    "El paquete *curl* ofrece otras funciones para descargar contenidos. Usaremos `curl_download`, que siempre guarda los contenidos descargados en un archivo.\n",
    "\n",
    "## La API de ENA\n",
    "\n",
    "Una *interfaz de programación de aplicaciones* (API) es la forma de comunicarse entre dos aplicaciones. En este caso: la base de datos de ENA y nuestro script. La API de ENA consiste en las reglas que traducen una búsqueda concreta a una dirección de internet o *URL*. Esta URL se compone de:\n",
    "\n",
    "- La dirección del portal `htpps://www.ebi.ac.uk/ena/portal/api`.\n",
    "- El *endpoint* `/search`, que especifica que vamos a buscar algo.\n",
    "- Los parámetros de búsqueda, separados por \"&\" y que incluyen:\n",
    "    - *result*: este parámetro es obligatorio y especifica qué tipo de datos buscamos: *read_run*, *read_experiment*, *sample*, *study*, *sequence_release*, *wgs_set*, etc.\n",
    "    - *query*: (opcional) condiciones o filtros de búsqueda unidos mediante \"AND\", \"OR\" o \"NOT\" y entrecomillados.\n",
    "    - *fields*: (opcional) lista de campos (separados por comas) que se desea obtener (específicos del tipo de datos que buscamos; puede incluir: *scientific_name*, *collection_date*, *strain*, etc.\n",
    "    - *limit*: (opcional) número máximo de registros que serán descargados. El 0 significa \"todos\".\n",
    "    - *format*: (opcional) el formato por defecto es *tsv*, pero se puede solicitar *json*.\n",
    "    \n",
    "Podemos obtener una lista de los valores posibles del parámetro *result* mediante `https://www.ebi.ac.uk/ena/portal/api/results?dataPortal=ena`. Para un tipo de datos concreto de esa lista (e.g., *sample*), podemos conocer los campos de información que podemos usar como filtros o términos de búsqueda (*query*) mediante `https://www.ebi.ac.uk/ena/portal/api/searchFields?result=sample`. Así mismo, los campos disponibles para el informe de resultados se consultan así: `https://www.ebi.ac.uk/ena/portal/api/returnFields?result=sample`. Por último, para especificar valores exigidos a algunos términos de búsqueda (*query*), necesitamos conocer los valores permitidos (o vocabulario controlado): `https://www.ebi.ac.uk/ena/portal/api/controlledVocab?field=mol_type`.\n",
    "\n",
    "Para hacer el código más claro y fácil de editar, defino como cadenas de caracteres las diferentes partes de la URL que queremos construir, y después las uno con `paste()`:"
   ]
  },
  {
   "cell_type": "code",
   "execution_count": 2,
   "metadata": {},
   "outputs": [
    {
     "data": {
      "text/html": [
       "'https://www.ebi.ac.uk/ena/portal/api/search?result=assembly&amp;query=tax_tree(7898) AND genome_representation=\"full\"&amp;fields=version,tax_id,scientific_name,last_updated,base_count&amp;limit=0'"
      ],
      "text/latex": [
       "'https://www.ebi.ac.uk/ena/portal/api/search?result=assembly\\&query=tax\\_tree(7898) AND genome\\_representation=\"full\"\\&fields=version,tax\\_id,scientific\\_name,last\\_updated,base\\_count\\&limit=0'"
      ],
      "text/markdown": [
       "'https://www.ebi.ac.uk/ena/portal/api/search?result=assembly&amp;query=tax_tree(7898) AND genome_representation=\"full\"&amp;fields=version,tax_id,scientific_name,last_updated,base_count&amp;limit=0'"
      ],
      "text/plain": [
       "[1] \"https://www.ebi.ac.uk/ena/portal/api/search?result=assembly&query=tax_tree(7898) AND genome_representation=\\\"full\\\"&fields=version,tax_id,scientific_name,last_updated,base_count&limit=0\""
      ]
     },
     "metadata": {},
     "output_type": "display_data"
    }
   ],
   "source": [
    "portal   <- 'https://www.ebi.ac.uk/ena/portal/api/'\n",
    "endpoint <- 'search?'\n",
    "# Busco genomas ensamblados...\n",
    "result   <- 'result=assembly'\n",
    "# ...y completos, de peces actinopterigios (NCBI taxon id 7898):\n",
    "query    <- '&query=tax_tree(7898) AND genome_representation=\"full\"'\n",
    "fields   <- '&fields=version,tax_id,scientific_name,last_updated,base_count'\n",
    "limit    <- '&limit=0'\n",
    "\n",
    "#Ahora lo juntamos todo y comprobamos que queda bien:\n",
    "URL <- paste0(portal, endpoint, result, query, fields, limit, sep='', collapse='')\n",
    "URL"
   ]
  },
  {
   "cell_type": "markdown",
   "metadata": {},
   "source": [
    "Parece que hemos construido la URL de forma correcta. Sin embargo, si intentas descargar su contenido en un archivo (`curl_download(URL, destfile='z1.tsv')`) obtendrás un error. El motivo es que en la URL aparecen espacios y caracteres reservados (\"=\", \"(\", \")\") donde no se esperaban. El problema está en el fragmento `tax_tree(7898) AND genome_representation=\"full\"`. Sólo en esa parte debemos sustituir los caracteres reservados por su representación en [código porciento](https://es.wikipedia.org/wiki/C%C3%B3digo_porciento). Por tanto, hay que definir `query` de nuevo para corregirlo."
   ]
  },
  {
   "cell_type": "code",
   "execution_count": 3,
   "metadata": {},
   "outputs": [
    {
     "data": {
      "text/html": [
       "'https://www.ebi.ac.uk/ena/portal/api/search?result=assembly&amp;query=tax_tree%287898%29%20AND%20genome_representation%3D%22full%22&amp;fields=version,tax_id,scientific_name,last_updated,base_count&amp;limit=0'"
      ],
      "text/latex": [
       "'https://www.ebi.ac.uk/ena/portal/api/search?result=assembly\\&query=tax\\_tree\\%287898\\%29\\%20AND\\%20genome\\_representation\\%3D\\%22full\\%22\\&fields=version,tax\\_id,scientific\\_name,last\\_updated,base\\_count\\&limit=0'"
      ],
      "text/markdown": [
       "'https://www.ebi.ac.uk/ena/portal/api/search?result=assembly&amp;query=tax_tree%287898%29%20AND%20genome_representation%3D%22full%22&amp;fields=version,tax_id,scientific_name,last_updated,base_count&amp;limit=0'"
      ],
      "text/plain": [
       "[1] \"https://www.ebi.ac.uk/ena/portal/api/search?result=assembly&query=tax_tree%287898%29%20AND%20genome_representation%3D%22full%22&fields=version,tax_id,scientific_name,last_updated,base_count&limit=0\""
      ]
     },
     "metadata": {},
     "output_type": "display_data"
    }
   ],
   "source": [
    "query  <- paste('&query=',\n",
    "                URLencode('tax_tree(7898) AND genome_representation=\"full\"',\n",
    "                          reserved = TRUE),\n",
    "                sep = '', collapse = '')\n",
    "URL <- paste(portal, endpoint, result, query, fields, limit, sep='', collapse='')\n",
    "URL"
   ]
  },
  {
   "cell_type": "markdown",
   "metadata": {},
   "source": [
    "Fíjate en el uso de las funciones `paste()` y `URLencode()`. Puedes aprender sobre el significado de sus argumentos mediante `help(paste)` y `help(URLencode)`.\n",
    "\n",
    "### Ejercicio 1\n",
    "Teniendo en cuenta lo que has aprendido, construye ahora una consulta en formato de URL para descargar: la fecha de publicación, el número de lecturas y el número de bases de los 100000 primeros registros de tipo *read_run*. (Limitamos el número de registros para no saturar la RAM).\n",
    "\n",
    "\n",
    "## Guardar y cargar los resultados"
   ]
  },
  {
   "cell_type": "code",
   "execution_count": 4,
   "metadata": {},
   "outputs": [],
   "source": [
    "curl_download(URL, destfile = 'fish.tsv')"
   ]
  },
  {
   "cell_type": "markdown",
   "metadata": {},
   "source": [
    "Con esto debe haber aparecido el archivo `fish.tsv` en la carpeta de trabajo. Puede parecer poco eficiente usar R para descargar un archivo y después volver a leerlo en R, cuando la función `curl_fetch_memory()` cargaria directamente el contenido de la URL en la memoria de trabajo. Pero es más fácil así y evita saturar la memoria de trabajo si el contenido descargado fuese muy grande.\n",
    "\n",
    "Ahora, pues, toca leer el archivo descargado, usando la función `read.table()`:"
   ]
  },
  {
   "cell_type": "code",
   "execution_count": 5,
   "metadata": {},
   "outputs": [
    {
     "data": {
      "text/html": [
       "<table class=\"dataframe\">\n",
       "<caption>A data.frame: 12 × 6</caption>\n",
       "<thead>\n",
       "\t<tr><th></th><th scope=col>accession</th><th scope=col>version</th><th scope=col>tax_id</th><th scope=col>scientific_name</th><th scope=col>last_updated</th><th scope=col>base_count</th></tr>\n",
       "\t<tr><th></th><th scope=col>&lt;chr&gt;</th><th scope=col>&lt;dbl&gt;</th><th scope=col>&lt;dbl&gt;</th><th scope=col>&lt;chr&gt;</th><th scope=col>&lt;date&gt;</th><th scope=col>&lt;dbl&gt;</th></tr>\n",
       "</thead>\n",
       "<tbody>\n",
       "\t<tr><th scope=row>1</th><td>GCA_000002035</td><td>3</td><td>  7955</td><td>Danio rerio              </td><td>2017-05-08</td><td>1371702787</td></tr>\n",
       "\t<tr><th scope=row>2</th><td>GCA_000150855</td><td>1</td><td> 35575</td><td>Mchenga conophoros       </td><td>2016-11-29</td><td>  73425564</td></tr>\n",
       "\t<tr><th scope=row>3</th><td>GCA_000150875</td><td>1</td><td> 57307</td><td>Labeotropheus fuelleborni</td><td>2016-11-29</td><td>  70858381</td></tr>\n",
       "\t<tr><th scope=row>4</th><td>GCA_000150895</td><td>1</td><td> 27751</td><td>Melanochromis auratus    </td><td>2016-11-29</td><td>  68238634</td></tr>\n",
       "\t<tr><th scope=row>5</th><td>GCA_000150935</td><td>1</td><td>163638</td><td>Rhamphochromis esox      </td><td>2016-11-29</td><td>  71295074</td></tr>\n",
       "\t<tr><th scope=row>6</th><td>GCA_000151825</td><td>1</td><td>  8090</td><td>Oryzias latipes          </td><td>2016-11-29</td><td> 662701370</td></tr>\n",
       "\t<tr><th scope=row>7</th><td>GCA_000180615</td><td>2</td><td> 31033</td><td>Takifugu rubripes        </td><td>2013-12-05</td><td> 391468278</td></tr>\n",
       "\t<tr><th scope=row>8</th><td>GCA_000180675</td><td>1</td><td> 69293</td><td>Gasterosteus aculeatus   </td><td>2019-08-27</td><td> 446610788</td></tr>\n",
       "\t<tr><th scope=row>9</th><td>GCA_000180735</td><td>1</td><td> 99883</td><td>Tetraodon nigroviridis   </td><td>2019-08-27</td><td> 342403326</td></tr>\n",
       "\t<tr><th scope=row>10</th><td>GCA_000188235</td><td>1</td><td>  8128</td><td>Oreochromis niloticus    </td><td>2012-02-09</td><td> 927725912</td></tr>\n",
       "\t<tr><th scope=row>11</th><td>GCA_000231765</td><td>1</td><td>  8049</td><td>Gadus morhua             </td><td>2016-11-30</td><td> 824311139</td></tr>\n",
       "\t<tr><th scope=row>12</th><td>GCA_000233375</td><td>4</td><td>  8030</td><td>Salmo salar              </td><td>2015-12-31</td><td>3412113583</td></tr>\n",
       "</tbody>\n",
       "</table>\n"
      ],
      "text/latex": [
       "A data.frame: 12 × 6\n",
       "\\begin{tabular}{r|llllll}\n",
       "  & accession & version & tax\\_id & scientific\\_name & last\\_updated & base\\_count\\\\\n",
       "  & <chr> & <dbl> & <dbl> & <chr> & <date> & <dbl>\\\\\n",
       "\\hline\n",
       "\t1 & GCA\\_000002035 & 3 &   7955 & Danio rerio               & 2017-05-08 & 1371702787\\\\\n",
       "\t2 & GCA\\_000150855 & 1 &  35575 & Mchenga conophoros        & 2016-11-29 &   73425564\\\\\n",
       "\t3 & GCA\\_000150875 & 1 &  57307 & Labeotropheus fuelleborni & 2016-11-29 &   70858381\\\\\n",
       "\t4 & GCA\\_000150895 & 1 &  27751 & Melanochromis auratus     & 2016-11-29 &   68238634\\\\\n",
       "\t5 & GCA\\_000150935 & 1 & 163638 & Rhamphochromis esox       & 2016-11-29 &   71295074\\\\\n",
       "\t6 & GCA\\_000151825 & 1 &   8090 & Oryzias latipes           & 2016-11-29 &  662701370\\\\\n",
       "\t7 & GCA\\_000180615 & 2 &  31033 & Takifugu rubripes         & 2013-12-05 &  391468278\\\\\n",
       "\t8 & GCA\\_000180675 & 1 &  69293 & Gasterosteus aculeatus    & 2019-08-27 &  446610788\\\\\n",
       "\t9 & GCA\\_000180735 & 1 &  99883 & Tetraodon nigroviridis    & 2019-08-27 &  342403326\\\\\n",
       "\t10 & GCA\\_000188235 & 1 &   8128 & Oreochromis niloticus     & 2012-02-09 &  927725912\\\\\n",
       "\t11 & GCA\\_000231765 & 1 &   8049 & Gadus morhua              & 2016-11-30 &  824311139\\\\\n",
       "\t12 & GCA\\_000233375 & 4 &   8030 & Salmo salar               & 2015-12-31 & 3412113583\\\\\n",
       "\\end{tabular}\n"
      ],
      "text/markdown": [
       "\n",
       "A data.frame: 12 × 6\n",
       "\n",
       "| <!--/--> | accession &lt;chr&gt; | version &lt;dbl&gt; | tax_id &lt;dbl&gt; | scientific_name &lt;chr&gt; | last_updated &lt;date&gt; | base_count &lt;dbl&gt; |\n",
       "|---|---|---|---|---|---|---|\n",
       "| 1 | GCA_000002035 | 3 |   7955 | Danio rerio               | 2017-05-08 | 1371702787 |\n",
       "| 2 | GCA_000150855 | 1 |  35575 | Mchenga conophoros        | 2016-11-29 |   73425564 |\n",
       "| 3 | GCA_000150875 | 1 |  57307 | Labeotropheus fuelleborni | 2016-11-29 |   70858381 |\n",
       "| 4 | GCA_000150895 | 1 |  27751 | Melanochromis auratus     | 2016-11-29 |   68238634 |\n",
       "| 5 | GCA_000150935 | 1 | 163638 | Rhamphochromis esox       | 2016-11-29 |   71295074 |\n",
       "| 6 | GCA_000151825 | 1 |   8090 | Oryzias latipes           | 2016-11-29 |  662701370 |\n",
       "| 7 | GCA_000180615 | 2 |  31033 | Takifugu rubripes         | 2013-12-05 |  391468278 |\n",
       "| 8 | GCA_000180675 | 1 |  69293 | Gasterosteus aculeatus    | 2019-08-27 |  446610788 |\n",
       "| 9 | GCA_000180735 | 1 |  99883 | Tetraodon nigroviridis    | 2019-08-27 |  342403326 |\n",
       "| 10 | GCA_000188235 | 1 |   8128 | Oreochromis niloticus     | 2012-02-09 |  927725912 |\n",
       "| 11 | GCA_000231765 | 1 |   8049 | Gadus morhua              | 2016-11-30 |  824311139 |\n",
       "| 12 | GCA_000233375 | 4 |   8030 | Salmo salar               | 2015-12-31 | 3412113583 |\n",
       "\n"
      ],
      "text/plain": [
       "   accession     version tax_id scientific_name           last_updated\n",
       "1  GCA_000002035 3         7955 Danio rerio               2017-05-08  \n",
       "2  GCA_000150855 1        35575 Mchenga conophoros        2016-11-29  \n",
       "3  GCA_000150875 1        57307 Labeotropheus fuelleborni 2016-11-29  \n",
       "4  GCA_000150895 1        27751 Melanochromis auratus     2016-11-29  \n",
       "5  GCA_000150935 1       163638 Rhamphochromis esox       2016-11-29  \n",
       "6  GCA_000151825 1         8090 Oryzias latipes           2016-11-29  \n",
       "7  GCA_000180615 2        31033 Takifugu rubripes         2013-12-05  \n",
       "8  GCA_000180675 1        69293 Gasterosteus aculeatus    2019-08-27  \n",
       "9  GCA_000180735 1        99883 Tetraodon nigroviridis    2019-08-27  \n",
       "10 GCA_000188235 1         8128 Oreochromis niloticus     2012-02-09  \n",
       "11 GCA_000231765 1         8049 Gadus morhua              2016-11-30  \n",
       "12 GCA_000233375 4         8030 Salmo salar               2015-12-31  \n",
       "   base_count\n",
       "1  1371702787\n",
       "2    73425564\n",
       "3    70858381\n",
       "4    68238634\n",
       "5    71295074\n",
       "6   662701370\n",
       "7   391468278\n",
       "8   446610788\n",
       "9   342403326\n",
       "10  927725912\n",
       "11  824311139\n",
       "12 3412113583"
      ]
     },
     "metadata": {},
     "output_type": "display_data"
    }
   ],
   "source": [
    "fish <- read.table('fish.tsv',\n",
    "             header = TRUE,\n",
    "             colClasses = c('character','numeric','numeric','character','Date','numeric'),\n",
    "             sep = '\\t',\n",
    "             na.strings = '')\n",
    "head(fish, n = 12)"
   ]
  },
  {
   "cell_type": "markdown",
   "metadata": {},
   "source": [
    "Observa las primeras líneas de los datos que hemos cargado en memoria. El objeto `fish` es un *data frame*, un tipo de tabla en R en que cada columna es una variable. \n",
    "\n",
    "### Ejercicio 2\n",
    "Descarga los resultados de la búsqueda confeccionada en el **ejercicio 1** y cárgalos en la memoria o espacio de trabajo de R. \n",
    "\n",
    "## Contar las bases por fecha\n",
    "Para representar gráficamente la acumulación de registros y del número de bases total a lo largo del tiempo, necesitamos hacer algunas operaciones. Concretamente, para cada fecha (columna *last updated*) debemos sumar el número de bases totales (*base_count*) y contar el número de registros actualizados en esa fecha. Empezemos por aquí. Este tipo de operaciones que se aplican por separado a cada pedazo de una tabla y luego se reunen en otra tabla se pueden hacer bastante bien con el paquete `plyr`:"
   ]
  },
  {
   "cell_type": "code",
   "execution_count": 6,
   "metadata": {},
   "outputs": [
    {
     "data": {
      "text/html": [
       "<table class=\"dataframe\">\n",
       "<caption>A data.frame: 6 × 3</caption>\n",
       "<thead>\n",
       "\t<tr><th></th><th scope=col>last_updated</th><th scope=col>bases</th><th scope=col>registros</th></tr>\n",
       "\t<tr><th></th><th scope=col>&lt;date&gt;</th><th scope=col>&lt;dbl&gt;</th><th scope=col>&lt;int&gt;</th></tr>\n",
       "</thead>\n",
       "<tbody>\n",
       "\t<tr><th scope=row>1</th><td>2012-02-09</td><td> 927725912</td><td>1</td></tr>\n",
       "\t<tr><th scope=row>2</th><td>2012-11-20</td><td> 869801494</td><td>1</td></tr>\n",
       "\t<tr><th scope=row>3</th><td>2013-09-20</td><td>2391207647</td><td>3</td></tr>\n",
       "\t<tr><th scope=row>4</th><td>2013-09-23</td><td> 945861706</td><td>1</td></tr>\n",
       "\t<tr><th scope=row>5</th><td>2013-10-28</td><td> 756296653</td><td>1</td></tr>\n",
       "\t<tr><th scope=row>6</th><td>2013-12-05</td><td> 391468278</td><td>1</td></tr>\n",
       "</tbody>\n",
       "</table>\n"
      ],
      "text/latex": [
       "A data.frame: 6 × 3\n",
       "\\begin{tabular}{r|lll}\n",
       "  & last\\_updated & bases & registros\\\\\n",
       "  & <date> & <dbl> & <int>\\\\\n",
       "\\hline\n",
       "\t1 & 2012-02-09 &  927725912 & 1\\\\\n",
       "\t2 & 2012-11-20 &  869801494 & 1\\\\\n",
       "\t3 & 2013-09-20 & 2391207647 & 3\\\\\n",
       "\t4 & 2013-09-23 &  945861706 & 1\\\\\n",
       "\t5 & 2013-10-28 &  756296653 & 1\\\\\n",
       "\t6 & 2013-12-05 &  391468278 & 1\\\\\n",
       "\\end{tabular}\n"
      ],
      "text/markdown": [
       "\n",
       "A data.frame: 6 × 3\n",
       "\n",
       "| <!--/--> | last_updated &lt;date&gt; | bases &lt;dbl&gt; | registros &lt;int&gt; |\n",
       "|---|---|---|---|\n",
       "| 1 | 2012-02-09 |  927725912 | 1 |\n",
       "| 2 | 2012-11-20 |  869801494 | 1 |\n",
       "| 3 | 2013-09-20 | 2391207647 | 3 |\n",
       "| 4 | 2013-09-23 |  945861706 | 1 |\n",
       "| 5 | 2013-10-28 |  756296653 | 1 |\n",
       "| 6 | 2013-12-05 |  391468278 | 1 |\n",
       "\n"
      ],
      "text/plain": [
       "  last_updated bases      registros\n",
       "1 2012-02-09    927725912 1        \n",
       "2 2012-11-20    869801494 1        \n",
       "3 2013-09-20   2391207647 3        \n",
       "4 2013-09-23    945861706 1        \n",
       "5 2013-10-28    756296653 1        \n",
       "6 2013-12-05    391468278 1        "
      ]
     },
     "metadata": {},
     "output_type": "display_data"
    }
   ],
   "source": [
    "library(plyr)\n",
    "# La función ddply() de plyr toma como datos iniciales un data frame,\n",
    "# lo divide en tantos data frames como valores diferentes tenga la(s)\n",
    "# variable(s) indicada(s), aplica una función a cada porción, y reúne\n",
    "# los resultados en otro data frame.\n",
    "PorFecha <- ddply(.data = fish,\n",
    "                  .variables = 'last_updated',\n",
    "                  .fun = function(x) data.frame(bases = sum(x$base_count, na.rm=TRUE),\n",
    "                                                registros = nrow(x)))\n",
    "head(PorFecha)"
   ]
  },
  {
   "cell_type": "markdown",
   "metadata": {},
   "source": [
    "Si te interesa, puedes aprender a usar el paquete `plyr` en este [tutorial](http://swcarpentry.github.io/r-novice-gapminder/12-plyr/index.html).\n",
    "\n",
    "Hay otras formas de hacerlo. Por ejemplo, con la función `aggregate()`, disponible por defecto, que aplica una función a cada trozo de un *data frame* delimitado por las filas que tienen el mismo valor de un factor (o la misma combinación de valores de más de un factor). Por ejemplo, para sumar el número de bases secuenciadas en la misma fecha, podemos hacer lo siguiente:"
   ]
  },
  {
   "cell_type": "code",
   "execution_count": 7,
   "metadata": {},
   "outputs": [
    {
     "data": {
      "text/html": [
       "<table class=\"dataframe\">\n",
       "<caption>A data.frame: 6 × 2</caption>\n",
       "<thead>\n",
       "\t<tr><th></th><th scope=col>date</th><th scope=col>x</th></tr>\n",
       "\t<tr><th></th><th scope=col>&lt;date&gt;</th><th scope=col>&lt;dbl&gt;</th></tr>\n",
       "</thead>\n",
       "<tbody>\n",
       "\t<tr><th scope=row>1</th><td>2012-02-09</td><td> 927725912</td></tr>\n",
       "\t<tr><th scope=row>2</th><td>2012-11-20</td><td> 869801494</td></tr>\n",
       "\t<tr><th scope=row>3</th><td>2013-09-20</td><td>2391207647</td></tr>\n",
       "\t<tr><th scope=row>4</th><td>2013-09-23</td><td> 945861706</td></tr>\n",
       "\t<tr><th scope=row>5</th><td>2013-10-28</td><td> 756296653</td></tr>\n",
       "\t<tr><th scope=row>6</th><td>2013-12-05</td><td> 391468278</td></tr>\n",
       "</tbody>\n",
       "</table>\n"
      ],
      "text/latex": [
       "A data.frame: 6 × 2\n",
       "\\begin{tabular}{r|ll}\n",
       "  & date & x\\\\\n",
       "  & <date> & <dbl>\\\\\n",
       "\\hline\n",
       "\t1 & 2012-02-09 &  927725912\\\\\n",
       "\t2 & 2012-11-20 &  869801494\\\\\n",
       "\t3 & 2013-09-20 & 2391207647\\\\\n",
       "\t4 & 2013-09-23 &  945861706\\\\\n",
       "\t5 & 2013-10-28 &  756296653\\\\\n",
       "\t6 & 2013-12-05 &  391468278\\\\\n",
       "\\end{tabular}\n"
      ],
      "text/markdown": [
       "\n",
       "A data.frame: 6 × 2\n",
       "\n",
       "| <!--/--> | date &lt;date&gt; | x &lt;dbl&gt; |\n",
       "|---|---|---|\n",
       "| 1 | 2012-02-09 |  927725912 |\n",
       "| 2 | 2012-11-20 |  869801494 |\n",
       "| 3 | 2013-09-20 | 2391207647 |\n",
       "| 4 | 2013-09-23 |  945861706 |\n",
       "| 5 | 2013-10-28 |  756296653 |\n",
       "| 6 | 2013-12-05 |  391468278 |\n",
       "\n"
      ],
      "text/plain": [
       "  date       x         \n",
       "1 2012-02-09  927725912\n",
       "2 2012-11-20  869801494\n",
       "3 2013-09-20 2391207647\n",
       "4 2013-09-23  945861706\n",
       "5 2013-10-28  756296653\n",
       "6 2013-12-05  391468278"
      ]
     },
     "metadata": {},
     "output_type": "display_data"
    }
   ],
   "source": [
    "BasesPorFecha <- aggregate(fish$base_count, by = list(date=fish$last_updated), sum)\n",
    "head(BasesPorFecha)"
   ]
  },
  {
   "cell_type": "markdown",
   "metadata": {},
   "source": [
    "Usaremos la tabla `PorFecha` obtenida con `ddply()`, que contiene el número de registros y el número de bases que fueron actualizados en cada fecha. Lo podemos representar gráficamente:"
   ]
  },
  {
   "cell_type": "code",
   "execution_count": 8,
   "metadata": {},
   "outputs": [
    {
     "data": {
      "image/png": "[encoded data removed]",
      "text/plain": [
       "plot without title"
      ]
     },
     "metadata": {
      "image/png": {
       "height": 420,
       "width": 420
      }
     },
     "output_type": "display_data"
    }
   ],
   "source": [
    "plot(PorFecha$last_updated, PorFecha$bases, type='l')"
   ]
  },
  {
   "cell_type": "code",
   "execution_count": 9,
   "metadata": {},
   "outputs": [
    {
     "data": {
      "text/html": [
       "<table class=\"dataframe\">\n",
       "<caption>A data.frame: 6 × 3</caption>\n",
       "<thead>\n",
       "\t<tr><th></th><th scope=col>last_updated</th><th scope=col>bases</th><th scope=col>registros</th></tr>\n",
       "\t<tr><th></th><th scope=col>&lt;date&gt;</th><th scope=col>&lt;dbl&gt;</th><th scope=col>&lt;int&gt;</th></tr>\n",
       "</thead>\n",
       "<tbody>\n",
       "\t<tr><th scope=row>229</th><td>2020-10-29</td><td>348607681506</td><td>504</td></tr>\n",
       "\t<tr><th scope=row>333</th><td>2021-11-15</td><td> 49273298127</td><td> 63</td></tr>\n",
       "\t<tr><th scope=row>325</th><td>2021-10-10</td><td> 28273756929</td><td> 36</td></tr>\n",
       "\t<tr><th scope=row>141</th><td>2019-08-16</td><td> 25289550173</td><td> 30</td></tr>\n",
       "\t<tr><th scope=row>228</th><td>2020-10-28</td><td> 18041875980</td><td> 26</td></tr>\n",
       "\t<tr><th scope=row>145</th><td>2019-08-27</td><td> 16813719246</td><td> 20</td></tr>\n",
       "</tbody>\n",
       "</table>\n"
      ],
      "text/latex": [
       "A data.frame: 6 × 3\n",
       "\\begin{tabular}{r|lll}\n",
       "  & last\\_updated & bases & registros\\\\\n",
       "  & <date> & <dbl> & <int>\\\\\n",
       "\\hline\n",
       "\t229 & 2020-10-29 & 348607681506 & 504\\\\\n",
       "\t333 & 2021-11-15 &  49273298127 &  63\\\\\n",
       "\t325 & 2021-10-10 &  28273756929 &  36\\\\\n",
       "\t141 & 2019-08-16 &  25289550173 &  30\\\\\n",
       "\t228 & 2020-10-28 &  18041875980 &  26\\\\\n",
       "\t145 & 2019-08-27 &  16813719246 &  20\\\\\n",
       "\\end{tabular}\n"
      ],
      "text/markdown": [
       "\n",
       "A data.frame: 6 × 3\n",
       "\n",
       "| <!--/--> | last_updated &lt;date&gt; | bases &lt;dbl&gt; | registros &lt;int&gt; |\n",
       "|---|---|---|---|\n",
       "| 229 | 2020-10-29 | 348607681506 | 504 |\n",
       "| 333 | 2021-11-15 |  49273298127 |  63 |\n",
       "| 325 | 2021-10-10 |  28273756929 |  36 |\n",
       "| 141 | 2019-08-16 |  25289550173 |  30 |\n",
       "| 228 | 2020-10-28 |  18041875980 |  26 |\n",
       "| 145 | 2019-08-27 |  16813719246 |  20 |\n",
       "\n"
      ],
      "text/plain": [
       "    last_updated bases        registros\n",
       "229 2020-10-29   348607681506 504      \n",
       "333 2021-11-15    49273298127  63      \n",
       "325 2021-10-10    28273756929  36      \n",
       "141 2019-08-16    25289550173  30      \n",
       "228 2020-10-28    18041875980  26      \n",
       "145 2019-08-27    16813719246  20      "
      ]
     },
     "metadata": {},
     "output_type": "display_data"
    }
   ],
   "source": [
    "head(PorFecha[order(PorFecha$bases, decreasing=TRUE),])"
   ]
  },
  {
   "cell_type": "markdown",
   "metadata": {},
   "source": [
    "Al ordenar las líneas de la tabla `PorFecha`, vemos fácilmente en qué fechas se actualizaron más registros. **¿Sabrías averiguar a qué especies corresponden los 505 registros del 29 de octubre de 2020?**\n",
    "\n",
    "### Ejercicio 3\n",
    "Utiliza la función `ddply()` para agrupar el número de lecturas cortas y el número de bases publicadas en ENA en cada fecha.\n",
    "\n",
    "## Suma acumulada\n",
    "\n",
    "Lo que necesitamos ahora es añadir a la tabla `PorFecha` una columna con la suma *acumulada* de bases, y la de registros. Podemos comprobar que la tabla está de hecho ordenada por fechas y entonces aplicar la función `cumsum()`:"
   ]
  },
  {
   "cell_type": "code",
   "execution_count": null,
   "metadata": {},
   "outputs": [],
   "source": [
    "dim(fish)"
   ]
  },
  {
   "cell_type": "code",
   "execution_count": null,
   "metadata": {},
   "outputs": [],
   "source": [
    "is.unsorted(PorFecha$last_updated)"
   ]
  },
  {
   "cell_type": "code",
   "execution_count": null,
   "metadata": {
    "scrolled": true
   },
   "outputs": [],
   "source": [
    "PorFecha$basesAcumuladas     <- cumsum(PorFecha$bases)\n",
    "PorFecha$registrosAcumulados <- cumsum(PorFecha$registros)\n",
    "tail(PorFecha)"
   ]
  },
  {
   "cell_type": "markdown",
   "metadata": {},
   "source": [
    "Arriba muestro el final de la table con la función `tail()` en lugar de mostrar el principio porque quiero ver si la suma acumulada ha funcionado. **¿Qué crees que hubiera ocurrido si en la tabla original `fish` tuviéramos un registro con un número desconocido `NA` de bases?**\n",
    "\n",
    "A continuación, lo representamos gráficamente, usando una escala logarítmica para el número de bases acumuladas."
   ]
  },
  {
   "cell_type": "code",
   "execution_count": null,
   "metadata": {},
   "outputs": [],
   "source": [
    "plot(PorFecha$last_updated, PorFecha$basesAcumuladas,\n",
    "     type = 'l', log = 'y',\n",
    "     xlab = 'Fecha', ylab = 'Núm. bases acumuladas',\n",
    "     main = 'Genomas de peces óseos')"
   ]
  },
  {
   "cell_type": "markdown",
   "metadata": {},
   "source": [
    "### Ejercicio 4\n",
    "Calcula y representa gráficamente el número acumulado de lecturas cortas y de bases a lo largo del tiempo, con los 100000 primeros registros de *read_run* que has descargado de ENA. \n",
    "\n",
    "## Para concluir\n",
    "\n",
    "- ¿Qué ventajas tiene realizar las consultas de manera programática, en lugar de hacerlo mediante la interfaz gráfica?\n",
    "- ¿Qué problemas podría haber para actualizar automáticamente la gráfica ejecutando el mismo script dentro de 10 años? ¿Y dentro de 100?\n",
    "- ¿Has *anotado* tu script con comentarios? ¿Por qué?\n",
    "- ¿Conoces alguna herramienta para poder mostrar, compartir y editar conjuntamente un script de forma remota con otras personas?\n"
   ]
  },
  {
   "cell_type": "code",
   "execution_count": null,
   "metadata": {},
   "outputs": [],
   "source": []
  }
 ],
 "metadata": {
  "kernelspec": {
   "display_name": "R",
   "language": "R",
   "name": "ir"
  },
  "language_info": {
   "codemirror_mode": "r",
   "file_extension": ".r",
   "mimetype": "text/x-r-source",
   "name": "R",
   "pygments_lexer": "r",
   "version": "4.1.2"
  }
 },
 "nbformat": 4,
 "nbformat_minor": 4
}
