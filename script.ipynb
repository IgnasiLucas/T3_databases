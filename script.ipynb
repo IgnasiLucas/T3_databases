{
 "cells": [
  {
   "cell_type": "code",
   "execution_count": null,
   "metadata": {},
   "outputs": [],
   "source": [
    "library('curl')\n",
    "library('plyr')\n",
    "\n",
    "portal   <- 'https://www.ebi.ac.uk/ena/portal/api/'\n",
    "endpoint <- 'search?'\n",
    "result   <- 'result=read_run'\n",
    "fields   <- '&fields=first_public,read_count,base_count'\n",
    "limit    <- '&limit=100000'\n",
    "URL <- paste0(portal, endpoint, result, fields, limit, collapse='')\n",
    "curl_download(URL, destfile = 'readRun.tsv')\n",
    "\n",
    "# Una vez descargado el archivo, es necesario echarle un vistazo\n",
    "# para ver su formato. Sólo entonces podemos decirle a R cómo\n",
    "# tiene que leerlo.\n",
    "\n",
    "readRun <- read.table('readRun.tsv', header = TRUE,\n",
    "                     colClasses = c('character','character','Date','numeric','numeric'),\n",
    "                     sep = '\\t', na.strings = '')\n",
    "\n",
    "PorFecha <- ddply(.data = readRun,\n",
    "                  .variables = 'first_public',\n",
    "                  .fun = function(x) data.frame(bases = sum(x$base_count, na.rm=TRUE),\n",
    "                                                lecturas = sum(x$read_count, na.rm=TRUE),\n",
    "                                                registros = nrow(x)))\n",
    "PorFecha$basesAcumuladas <- cumsum(PorFecha$bases)\n",
    "PorFecha$lecturasAcumuladas <- cumsum(PorFecha$lecturas)\n",
    "PorFecha$registrosAcumulados <- cumsum(PorFecha$registros)\n",
    "\n",
    "plot(PorFecha$first_public, PorFecha$basesAcumuladas, log='y', type='l',\n",
    "    xlab = 'Fecha', ylab = 'Número de bases acumuladas')\n",
    "\n",
    "plot(PorFecha$first_public, PorFecha$lecturasAcumuladas, log='y', type='l',\n",
    "    xlab = 'Fecha', ylab = 'Número de lecturas acumuladas')\n"
   ]
  }
 ],
 "metadata": {
  "kernelspec": {
   "display_name": "R",
   "language": "R",
   "name": "ir"
  },
  "language_info": {
   "codemirror_mode": "r",
   "file_extension": ".r",
   "mimetype": "text/x-r-source",
   "name": "R",
   "pygments_lexer": "r",
   "version": "3.6.3"
  }
 },
 "nbformat": 4,
 "nbformat_minor": 4
}
